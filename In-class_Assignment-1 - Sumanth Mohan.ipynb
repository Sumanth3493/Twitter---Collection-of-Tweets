{
 "cells": [
  {
   "cell_type": "code",
   "execution_count": 224,
   "metadata": {},
   "outputs": [],
   "source": [
    "import tweepy\n",
    "import pandas as pd\n",
    "import time"
   ]
  },
  {
   "cell_type": "markdown",
   "metadata": {},
   "source": [
    "# Using Access Keys from my Twitter Developer Account"
   ]
  },
  {
   "cell_type": "code",
   "execution_count": 225,
   "metadata": {},
   "outputs": [],
   "source": [
    "access_token = \"3284584351-A7bE4HqPrXYPDFO4zgopcQFSFynq4djkyckiwvc\"\n",
    "access_token_secret = \"HrTRt7RwQnHF5tgQ8jnBYLvE4pz2RebYRqN0gpK83gfYm\"\n",
    "consumer_key = \"TKAmnXNBbzG7t0aNTsv7MaAxO\"\n",
    "consumer_secret = \"pgMLLRrTE3VZYKaeQOUqNjNGmivewRxkKSBYNNthRIPQVypE7t\""
   ]
  },
  {
   "cell_type": "code",
   "execution_count": 226,
   "metadata": {},
   "outputs": [],
   "source": [
    "auth = tweepy.OAuthHandler(consumer_key, consumer_secret)\n",
    "auth.set_access_token(access_token, access_token_secret)\n",
    "api = tweepy.API(auth,wait_on_rate_limit=True)"
   ]
  },
  {
   "cell_type": "markdown",
   "metadata": {},
   "source": [
    "# Filter 1 : Scraping twitter data : Here I am using filters of scraping using specific search keyword and using my username = \"BeingSumanthM\""
   ]
  },
  {
   "cell_type": "code",
   "execution_count": 227,
   "metadata": {},
   "outputs": [],
   "source": [
    "twitter_data = tw.Cursor(api.search, q=Search_Keyword, lang=\"en\", since=from_date).items(10)"
   ]
  },
  {
   "cell_type": "code",
   "execution_count": 228,
   "metadata": {},
   "outputs": [],
   "source": [
    "Search_Keyword = \"Corona virus\"\n",
    "username = \"BeingSumanthM\"\n",
    "from_date = \"2020-6-01\""
   ]
  },
  {
   "cell_type": "code",
   "execution_count": 229,
   "metadata": {},
   "outputs": [],
   "source": [
    "twitter_data = tw.Cursor(api.search, g=username, q=Search_Keyword, lang=\"en\", since=from_date).items(10)"
   ]
  },
  {
   "cell_type": "markdown",
   "metadata": {},
   "source": [
    "# Output 1 :  Once I have collected all tweets I am printing 10 Tweets "
   ]
  },
  {
   "cell_type": "code",
   "execution_count": 232,
   "metadata": {},
   "outputs": [
    {
     "name": "stdout",
     "output_type": "stream",
     "text": [
      "RT @levinassien: 「中途半端な政策は『ウィルスと共に生きる(living with the virus)』ではなく『ウィルスで死ぬ(dying from it)』結果をもたらすだろう」とNYTは書いてました。というわけで「ウィズコロナ」はLive with Co…\n",
      "RT @Wangchuk66: The BMIC Virus... How to Handle it!\n",
      "\n",
      "1000 times more contagious than Corona,\n",
      "2 MILLION infected, 20 Million asymptotic\n",
      "\n",
      "Aft…\n",
      "bom galera, é isso.\n",
      "to juntando meus panos e me mudando pros estúdios do MasterChef pois aparentemente lá não existe corona vírus\n",
      "RT @dramavixen: forever cursing @ corona virus tkem could've filmed overseas and arthdal chronicles could've filmed s2 now 💀\n",
      "Os surtos da minha mãe por causa do corona vírus estão cada vez piores\n",
      "É tão bom lembrar de quando o corona vírus ainda não era moda e a gente ia nas feijoadas, botava o dedo no chopp do… https://t.co/jCysluhVcs\n",
      "RT @Wangchuk66: The BMIC Virus... How to Handle it!\n",
      "\n",
      "1000 times more contagious than Corona,\n",
      "2 MILLION infected, 20 Million asymptotic\n",
      "\n",
      "Aft…\n",
      "follow for a cookie (I’ll deliver) for no corona virus https://t.co/Wdt5F37KGW\n",
      "@RahulGandhi Chacha Gandhi apko malum hai ye corona virus ka pure world me failne ke piche who ka ignorance, china… https://t.co/pAejQSxvBT\n",
      "ô corona virus vá embora pra eu poder chorar com essa ao vivo https://t.co/cTWprRCpcf\n"
     ]
    }
   ],
   "source": [
    "# Collect tweets\n",
    "twitter_data = tw.Cursor(api.search, g=username, q=Search_Keyword,\n",
    "              since=from_date).items(10)\n",
    "\n",
    "# perform iteration and print tweets\n",
    "for tweet in twitter_data:\n",
    "    print(tweet.text)"
   ]
  },
  {
   "cell_type": "code",
   "execution_count": 233,
   "metadata": {},
   "outputs": [],
   "source": [
    "tweets = []\n",
    "username = 'BeingSumanthM'\n",
    "count = 200\n",
    "try: \n",
    "    # Pulling individual tweets from query\n",
    "      for tweet in api.user_timeline(id=username, count=count):\n",
    "\n",
    "            # Adding to list that contains all tweets\n",
    "            tweets.append((tweet.created_at,tweet.id,tweet.text))\n",
    "\n",
    "            # Creation of dataframe from tweets list\n",
    "            tweetsdf = pd.DataFrame(tweets,columns=['Datetime', 'Tweet Id', 'Text'])\n",
    "except BaseException as e:\n",
    "        print('failed on_status,',str(e))\n",
    "        time.sleep(1000)\n",
    "    "
   ]
  },
  {
   "cell_type": "markdown",
   "metadata": {},
   "source": [
    "# Filter 2: I am Displaying my own tweet(which I tweeted)"
   ]
  },
  {
   "cell_type": "code",
   "execution_count": 234,
   "metadata": {},
   "outputs": [],
   "source": [
    "username = 'BeingSumanthM'\n",
    "from_date = \"2014-6-01\"\n",
    "count = 200"
   ]
  },
  {
   "cell_type": "code",
   "execution_count": 235,
   "metadata": {},
   "outputs": [],
   "source": [
    "twitter_data = tw.Cursor(api.search, q=username, lang=\"en\", since=from_date).items(1000)"
   ]
  },
  {
   "cell_type": "code",
   "execution_count": 236,
   "metadata": {},
   "outputs": [],
   "source": [
    "# Collect tweets\n",
    "twitter_data = tw.Cursor(api.search,\n",
    "              q=username,\n",
    "              since=from_date).items(10)\n",
    "\n",
    "# perform iteration and print tweets\n",
    "for tweet in twitter_data:\n",
    "    print(tweet.text)"
   ]
  },
  {
   "cell_type": "markdown",
   "metadata": {},
   "source": [
    "# Output 2  Below is my own tweet which I have tweeted "
   ]
  },
  {
   "cell_type": "code",
   "execution_count": 237,
   "metadata": {},
   "outputs": [
    {
     "name": "stdout",
     "output_type": "stream",
     "text": [
      "Well ,thanks all for the Incredible support! Had a gr8 Sunday with family and friends. \n",
      "Stay Blessed..:-)\n",
      "Good Night!!\n"
     ]
    }
   ],
   "source": [
    "print(tweet.text)"
   ]
  },
  {
   "cell_type": "markdown",
   "metadata": {},
   "source": [
    "# Now I am displaying 10 Tweets from a public profile. My Tweets are set to private access, I am displaying 10 Tweets from username = 'BillGates'"
   ]
  },
  {
   "cell_type": "code",
   "execution_count": 238,
   "metadata": {},
   "outputs": [],
   "source": [
    "username = 'BillGates'\n",
    "from_date = \"2014-6-01\"\n",
    "count = 200"
   ]
  },
  {
   "cell_type": "code",
   "execution_count": 239,
   "metadata": {},
   "outputs": [],
   "source": [
    "twitter_data = tw.Cursor(api.search, q=username, lang=\"en\", since=from_date).items(1000)"
   ]
  },
  {
   "cell_type": "markdown",
   "metadata": {},
   "source": [
    "# Output 3 :"
   ]
  },
  {
   "cell_type": "code",
   "execution_count": 241,
   "metadata": {},
   "outputs": [
    {
     "name": "stdout",
     "output_type": "stream",
     "text": [
      "@BillGates @bernardolayo @hewa_tele Hi Billy boy, we see yooooou https://t.co/XuywBj5quA\n",
      "RT @CatNamus: 37.) #SergeyBrin, owner of #Google visited #JeffreyEpstein after his #ChildSexTrafficking conviction in 2011 at #LongBeach, C…\n",
      "RT @AliBeckZeck: Why would #BillGates be calling #COVID “Pandemic 1” unless he knows something we don’t know? Obviously he’s got something…\n",
      "RT @JonnyQPublic: Can we just take a moment to thank #billgates for stepping up and paying for free #Coronavirus tests during this #plandem…\n",
      "RT @NickQuinlan9: @BillGates The world of the Satanic Elite, like Ghislaine, Oprah, Ellen DeGeneres, Obama, Clintons--is crumbling. When al…\n",
      "RT @OnEdgeOfWonder: THE SERIES TOO HOT \n",
      "FOR YOUTUBE 🔥🔴🔥\n",
      "\n",
      "Billuminati Gates\n",
      "[P1] Epstein, Eugenics \n",
      "&amp; The Lolita Express 🛩\n",
      "👉🏻 https://t.co/T…\n",
      "@Mrdeeds1111 @DougDerby Hey @BillGates you do realize how much outrage and anger that has built up &amp; you have cause… https://t.co/81Sce4noaD\n",
      "@BillGates I’ll shoot chicken grease up my arm before I take a bill gates vaccine.\n",
      "RT @NSkiF1j1: Appalled by the article in @NEJM with only 2 black patients studied (4%) in P1 safety trial for Covid vaccine \n",
      "\n",
      "$MRNA should…\n",
      "RT @rix: Todavía hay gente con huevos en las noticias 👌 #Epstein #BillGates https://t.co/EWBjNwC99U\n"
     ]
    }
   ],
   "source": [
    "# Collect tweets\n",
    "twitter_data = tw.Cursor(api.search,\n",
    "              q=username,\n",
    "              since=from_date).items(10)\n",
    "\n",
    "# perform iteration and print tweets\n",
    "for tweet in twitter_data:\n",
    "    print(tweet.text)"
   ]
  }
 ],
 "metadata": {
  "kernelspec": {
   "display_name": "Python 3",
   "language": "python",
   "name": "python3"
  },
  "language_info": {
   "codemirror_mode": {
    "name": "ipython",
    "version": 3
   },
   "file_extension": ".py",
   "mimetype": "text/x-python",
   "name": "python",
   "nbconvert_exporter": "python",
   "pygments_lexer": "ipython3",
   "version": "3.7.3"
  }
 },
 "nbformat": 4,
 "nbformat_minor": 2
}
